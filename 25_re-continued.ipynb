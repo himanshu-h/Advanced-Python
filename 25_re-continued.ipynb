{
 "cells": [
  {
   "cell_type": "code",
   "execution_count": 1,
   "metadata": {},
   "outputs": [],
   "source": [
    "import re"
   ]
  },
  {
   "cell_type": "code",
   "execution_count": 2,
   "metadata": {},
   "outputs": [],
   "source": [
    "text_to_search = '''\n",
    "abcdefghijklmnopqurtuvwxyz\n",
    "ABCDEFGHIJKLMNOPQRSTUVWXYZ\n",
    "1234567890\n",
    "\n",
    "Ha HaHa\n",
    "\n",
    "MetaCharacters (Need to be escaped):\n",
    ". ^ $ * + ? { } [ ] \\ | ( )\n",
    "\n",
    "coreyms.com\n",
    "\n",
    "321-555-4321\n",
    "123.555.1234\n",
    "123*555*1234\n",
    "800-555-1234\n",
    "900-555-1234\n",
    "\n",
    "Mr. Schafer\n",
    "Mr Smith\n",
    "Ms Davis\n",
    "Mrs. Robinson\n",
    "Mr. T\n",
    "\n",
    "cat \n",
    "mat\n",
    "bat\n",
    "'''"
   ]
  },
  {
   "cell_type": "code",
   "execution_count": 3,
   "metadata": {},
   "outputs": [],
   "source": [
    "sentence = 'Start a sentence and then bring it to an end'"
   ]
  },
  {
   "cell_type": "code",
   "execution_count": 4,
   "metadata": {},
   "outputs": [
    {
     "name": "stdout",
     "output_type": "stream",
     "text": [
      "<_sre.SRE_Match object; span=(1, 4), match='abc'>\n"
     ]
    }
   ],
   "source": [
    "pattern = re.compile(r'abc')\n",
    "matches = pattern.finditer(text_to_search)\n",
    "for match in matches:\n",
    "    print(match)"
   ]
  },
  {
   "cell_type": "code",
   "execution_count": 5,
   "metadata": {},
   "outputs": [
    {
     "data": {
      "text/plain": [
       "'abc'"
      ]
     },
     "execution_count": 5,
     "metadata": {},
     "output_type": "execute_result"
    }
   ],
   "source": [
    "text_to_search[1:4]"
   ]
  },
  {
   "cell_type": "code",
   "execution_count": 6,
   "metadata": {},
   "outputs": [
    {
     "name": "stdout",
     "output_type": "stream",
     "text": [
      "<_sre.SRE_Match object; span=(55, 58), match='123'>\n",
      "<_sre.SRE_Match object; span=(168, 171), match='123'>\n",
      "<_sre.SRE_Match object; span=(176, 179), match='123'>\n",
      "<_sre.SRE_Match object; span=(181, 184), match='123'>\n",
      "<_sre.SRE_Match object; span=(189, 192), match='123'>\n",
      "<_sre.SRE_Match object; span=(202, 205), match='123'>\n",
      "<_sre.SRE_Match object; span=(215, 218), match='123'>\n"
     ]
    }
   ],
   "source": [
    "pattern = re.compile(r'123')\n",
    "matches = pattern.finditer(text_to_search)\n",
    "for match in matches:\n",
    "    print(match)"
   ]
  },
  {
   "cell_type": "code",
   "execution_count": 7,
   "metadata": {},
   "outputs": [
    {
     "name": "stdout",
     "output_type": "stream",
     "text": [
      "<_sre.SRE_Match object; span=(113, 114), match='.'>\n",
      "<_sre.SRE_Match object; span=(149, 150), match='.'>\n",
      "<_sre.SRE_Match object; span=(171, 172), match='.'>\n",
      "<_sre.SRE_Match object; span=(175, 176), match='.'>\n",
      "<_sre.SRE_Match object; span=(223, 224), match='.'>\n",
      "<_sre.SRE_Match object; span=(254, 255), match='.'>\n",
      "<_sre.SRE_Match object; span=(267, 268), match='.'>\n"
     ]
    }
   ],
   "source": [
    "pattern = re.compile(r'\\.')\n",
    "matches = pattern.finditer(text_to_search)\n",
    "for match in matches:\n",
    "    print(match)"
   ]
  },
  {
   "cell_type": "code",
   "execution_count": 8,
   "metadata": {},
   "outputs": [
    {
     "name": "stdout",
     "output_type": "stream",
     "text": [
      "<_sre.SRE_Match object; span=(142, 153), match='coreyms.com'>\n"
     ]
    }
   ],
   "source": [
    "pattern = re.compile(r'coreyms\\.com')\n",
    "matches = pattern.finditer(text_to_search)\n",
    "for match in matches:\n",
    "    print(match)"
   ]
  },
  {
   "cell_type": "code",
   "execution_count": 9,
   "metadata": {},
   "outputs": [
    {
     "name": "stdout",
     "output_type": "stream",
     "text": [
      "<_sre.SRE_Match object; span=(1, 2), match='a'>\n",
      "<_sre.SRE_Match object; span=(2, 3), match='b'>\n",
      "<_sre.SRE_Match object; span=(3, 4), match='c'>\n",
      "<_sre.SRE_Match object; span=(4, 5), match='d'>\n",
      "<_sre.SRE_Match object; span=(5, 6), match='e'>\n",
      "<_sre.SRE_Match object; span=(6, 7), match='f'>\n",
      "<_sre.SRE_Match object; span=(7, 8), match='g'>\n",
      "<_sre.SRE_Match object; span=(8, 9), match='h'>\n",
      "<_sre.SRE_Match object; span=(9, 10), match='i'>\n",
      "<_sre.SRE_Match object; span=(10, 11), match='j'>\n",
      "<_sre.SRE_Match object; span=(11, 12), match='k'>\n",
      "<_sre.SRE_Match object; span=(12, 13), match='l'>\n",
      "<_sre.SRE_Match object; span=(13, 14), match='m'>\n",
      "<_sre.SRE_Match object; span=(14, 15), match='n'>\n",
      "<_sre.SRE_Match object; span=(15, 16), match='o'>\n",
      "<_sre.SRE_Match object; span=(16, 17), match='p'>\n",
      "<_sre.SRE_Match object; span=(17, 18), match='q'>\n",
      "<_sre.SRE_Match object; span=(18, 19), match='u'>\n",
      "<_sre.SRE_Match object; span=(19, 20), match='r'>\n",
      "<_sre.SRE_Match object; span=(20, 21), match='t'>\n",
      "<_sre.SRE_Match object; span=(21, 22), match='u'>\n",
      "<_sre.SRE_Match object; span=(22, 23), match='v'>\n",
      "<_sre.SRE_Match object; span=(23, 24), match='w'>\n",
      "<_sre.SRE_Match object; span=(24, 25), match='x'>\n",
      "<_sre.SRE_Match object; span=(25, 26), match='y'>\n",
      "<_sre.SRE_Match object; span=(26, 27), match='z'>\n",
      "<_sre.SRE_Match object; span=(28, 29), match='A'>\n",
      "<_sre.SRE_Match object; span=(29, 30), match='B'>\n",
      "<_sre.SRE_Match object; span=(30, 31), match='C'>\n",
      "<_sre.SRE_Match object; span=(31, 32), match='D'>\n",
      "<_sre.SRE_Match object; span=(32, 33), match='E'>\n",
      "<_sre.SRE_Match object; span=(33, 34), match='F'>\n",
      "<_sre.SRE_Match object; span=(34, 35), match='G'>\n",
      "<_sre.SRE_Match object; span=(35, 36), match='H'>\n",
      "<_sre.SRE_Match object; span=(36, 37), match='I'>\n",
      "<_sre.SRE_Match object; span=(37, 38), match='J'>\n",
      "<_sre.SRE_Match object; span=(38, 39), match='K'>\n",
      "<_sre.SRE_Match object; span=(39, 40), match='L'>\n",
      "<_sre.SRE_Match object; span=(40, 41), match='M'>\n",
      "<_sre.SRE_Match object; span=(41, 42), match='N'>\n",
      "<_sre.SRE_Match object; span=(42, 43), match='O'>\n",
      "<_sre.SRE_Match object; span=(43, 44), match='P'>\n",
      "<_sre.SRE_Match object; span=(44, 45), match='Q'>\n",
      "<_sre.SRE_Match object; span=(45, 46), match='R'>\n",
      "<_sre.SRE_Match object; span=(46, 47), match='S'>\n",
      "<_sre.SRE_Match object; span=(47, 48), match='T'>\n",
      "<_sre.SRE_Match object; span=(48, 49), match='U'>\n",
      "<_sre.SRE_Match object; span=(49, 50), match='V'>\n",
      "<_sre.SRE_Match object; span=(50, 51), match='W'>\n",
      "<_sre.SRE_Match object; span=(51, 52), match='X'>\n",
      "<_sre.SRE_Match object; span=(52, 53), match='Y'>\n",
      "<_sre.SRE_Match object; span=(53, 54), match='Z'>\n",
      "<_sre.SRE_Match object; span=(55, 56), match='1'>\n",
      "<_sre.SRE_Match object; span=(56, 57), match='2'>\n",
      "<_sre.SRE_Match object; span=(57, 58), match='3'>\n",
      "<_sre.SRE_Match object; span=(58, 59), match='4'>\n",
      "<_sre.SRE_Match object; span=(59, 60), match='5'>\n",
      "<_sre.SRE_Match object; span=(60, 61), match='6'>\n",
      "<_sre.SRE_Match object; span=(61, 62), match='7'>\n",
      "<_sre.SRE_Match object; span=(62, 63), match='8'>\n",
      "<_sre.SRE_Match object; span=(63, 64), match='9'>\n",
      "<_sre.SRE_Match object; span=(64, 65), match='0'>\n",
      "<_sre.SRE_Match object; span=(67, 68), match='H'>\n",
      "<_sre.SRE_Match object; span=(68, 69), match='a'>\n",
      "<_sre.SRE_Match object; span=(69, 70), match=' '>\n",
      "<_sre.SRE_Match object; span=(70, 71), match='H'>\n",
      "<_sre.SRE_Match object; span=(71, 72), match='a'>\n",
      "<_sre.SRE_Match object; span=(72, 73), match='H'>\n",
      "<_sre.SRE_Match object; span=(73, 74), match='a'>\n",
      "<_sre.SRE_Match object; span=(76, 77), match='M'>\n",
      "<_sre.SRE_Match object; span=(77, 78), match='e'>\n",
      "<_sre.SRE_Match object; span=(78, 79), match='t'>\n",
      "<_sre.SRE_Match object; span=(79, 80), match='a'>\n",
      "<_sre.SRE_Match object; span=(80, 81), match='C'>\n",
      "<_sre.SRE_Match object; span=(81, 82), match='h'>\n",
      "<_sre.SRE_Match object; span=(82, 83), match='a'>\n",
      "<_sre.SRE_Match object; span=(83, 84), match='r'>\n",
      "<_sre.SRE_Match object; span=(84, 85), match='a'>\n",
      "<_sre.SRE_Match object; span=(85, 86), match='c'>\n",
      "<_sre.SRE_Match object; span=(86, 87), match='t'>\n",
      "<_sre.SRE_Match object; span=(87, 88), match='e'>\n",
      "<_sre.SRE_Match object; span=(88, 89), match='r'>\n",
      "<_sre.SRE_Match object; span=(89, 90), match='s'>\n",
      "<_sre.SRE_Match object; span=(90, 91), match=' '>\n",
      "<_sre.SRE_Match object; span=(91, 92), match='('>\n",
      "<_sre.SRE_Match object; span=(92, 93), match='N'>\n",
      "<_sre.SRE_Match object; span=(93, 94), match='e'>\n",
      "<_sre.SRE_Match object; span=(94, 95), match='e'>\n",
      "<_sre.SRE_Match object; span=(95, 96), match='d'>\n",
      "<_sre.SRE_Match object; span=(96, 97), match=' '>\n",
      "<_sre.SRE_Match object; span=(97, 98), match='t'>\n",
      "<_sre.SRE_Match object; span=(98, 99), match='o'>\n",
      "<_sre.SRE_Match object; span=(99, 100), match=' '>\n",
      "<_sre.SRE_Match object; span=(100, 101), match='b'>\n",
      "<_sre.SRE_Match object; span=(101, 102), match='e'>\n",
      "<_sre.SRE_Match object; span=(102, 103), match=' '>\n",
      "<_sre.SRE_Match object; span=(103, 104), match='e'>\n",
      "<_sre.SRE_Match object; span=(104, 105), match='s'>\n",
      "<_sre.SRE_Match object; span=(105, 106), match='c'>\n",
      "<_sre.SRE_Match object; span=(106, 107), match='a'>\n",
      "<_sre.SRE_Match object; span=(107, 108), match='p'>\n",
      "<_sre.SRE_Match object; span=(108, 109), match='e'>\n",
      "<_sre.SRE_Match object; span=(109, 110), match='d'>\n",
      "<_sre.SRE_Match object; span=(110, 111), match=')'>\n",
      "<_sre.SRE_Match object; span=(111, 112), match=':'>\n",
      "<_sre.SRE_Match object; span=(113, 114), match='.'>\n",
      "<_sre.SRE_Match object; span=(114, 115), match=' '>\n",
      "<_sre.SRE_Match object; span=(115, 116), match='^'>\n",
      "<_sre.SRE_Match object; span=(116, 117), match=' '>\n",
      "<_sre.SRE_Match object; span=(117, 118), match='$'>\n",
      "<_sre.SRE_Match object; span=(118, 119), match=' '>\n",
      "<_sre.SRE_Match object; span=(119, 120), match='*'>\n",
      "<_sre.SRE_Match object; span=(120, 121), match=' '>\n",
      "<_sre.SRE_Match object; span=(121, 122), match='+'>\n",
      "<_sre.SRE_Match object; span=(122, 123), match=' '>\n",
      "<_sre.SRE_Match object; span=(123, 124), match='?'>\n",
      "<_sre.SRE_Match object; span=(124, 125), match=' '>\n",
      "<_sre.SRE_Match object; span=(125, 126), match='{'>\n",
      "<_sre.SRE_Match object; span=(126, 127), match=' '>\n",
      "<_sre.SRE_Match object; span=(127, 128), match='}'>\n",
      "<_sre.SRE_Match object; span=(128, 129), match=' '>\n",
      "<_sre.SRE_Match object; span=(129, 130), match='['>\n",
      "<_sre.SRE_Match object; span=(130, 131), match=' '>\n",
      "<_sre.SRE_Match object; span=(131, 132), match=']'>\n",
      "<_sre.SRE_Match object; span=(132, 133), match=' '>\n",
      "<_sre.SRE_Match object; span=(133, 134), match='\\\\'>\n",
      "<_sre.SRE_Match object; span=(134, 135), match=' '>\n",
      "<_sre.SRE_Match object; span=(135, 136), match='|'>\n",
      "<_sre.SRE_Match object; span=(136, 137), match=' '>\n",
      "<_sre.SRE_Match object; span=(137, 138), match='('>\n",
      "<_sre.SRE_Match object; span=(138, 139), match=' '>\n",
      "<_sre.SRE_Match object; span=(139, 140), match=')'>\n",
      "<_sre.SRE_Match object; span=(142, 143), match='c'>\n",
      "<_sre.SRE_Match object; span=(143, 144), match='o'>\n",
      "<_sre.SRE_Match object; span=(144, 145), match='r'>\n",
      "<_sre.SRE_Match object; span=(145, 146), match='e'>\n",
      "<_sre.SRE_Match object; span=(146, 147), match='y'>\n",
      "<_sre.SRE_Match object; span=(147, 148), match='m'>\n",
      "<_sre.SRE_Match object; span=(148, 149), match='s'>\n",
      "<_sre.SRE_Match object; span=(149, 150), match='.'>\n",
      "<_sre.SRE_Match object; span=(150, 151), match='c'>\n",
      "<_sre.SRE_Match object; span=(151, 152), match='o'>\n",
      "<_sre.SRE_Match object; span=(152, 153), match='m'>\n",
      "<_sre.SRE_Match object; span=(155, 156), match='3'>\n",
      "<_sre.SRE_Match object; span=(156, 157), match='2'>\n",
      "<_sre.SRE_Match object; span=(157, 158), match='1'>\n",
      "<_sre.SRE_Match object; span=(158, 159), match='-'>\n",
      "<_sre.SRE_Match object; span=(159, 160), match='5'>\n",
      "<_sre.SRE_Match object; span=(160, 161), match='5'>\n",
      "<_sre.SRE_Match object; span=(161, 162), match='5'>\n",
      "<_sre.SRE_Match object; span=(162, 163), match='-'>\n",
      "<_sre.SRE_Match object; span=(163, 164), match='4'>\n",
      "<_sre.SRE_Match object; span=(164, 165), match='3'>\n",
      "<_sre.SRE_Match object; span=(165, 166), match='2'>\n",
      "<_sre.SRE_Match object; span=(166, 167), match='1'>\n",
      "<_sre.SRE_Match object; span=(168, 169), match='1'>\n",
      "<_sre.SRE_Match object; span=(169, 170), match='2'>\n",
      "<_sre.SRE_Match object; span=(170, 171), match='3'>\n",
      "<_sre.SRE_Match object; span=(171, 172), match='.'>\n",
      "<_sre.SRE_Match object; span=(172, 173), match='5'>\n",
      "<_sre.SRE_Match object; span=(173, 174), match='5'>\n",
      "<_sre.SRE_Match object; span=(174, 175), match='5'>\n",
      "<_sre.SRE_Match object; span=(175, 176), match='.'>\n",
      "<_sre.SRE_Match object; span=(176, 177), match='1'>\n",
      "<_sre.SRE_Match object; span=(177, 178), match='2'>\n",
      "<_sre.SRE_Match object; span=(178, 179), match='3'>\n",
      "<_sre.SRE_Match object; span=(179, 180), match='4'>\n",
      "<_sre.SRE_Match object; span=(181, 182), match='1'>\n",
      "<_sre.SRE_Match object; span=(182, 183), match='2'>\n",
      "<_sre.SRE_Match object; span=(183, 184), match='3'>\n",
      "<_sre.SRE_Match object; span=(184, 185), match='*'>\n",
      "<_sre.SRE_Match object; span=(185, 186), match='5'>\n",
      "<_sre.SRE_Match object; span=(186, 187), match='5'>\n",
      "<_sre.SRE_Match object; span=(187, 188), match='5'>\n",
      "<_sre.SRE_Match object; span=(188, 189), match='*'>\n",
      "<_sre.SRE_Match object; span=(189, 190), match='1'>\n",
      "<_sre.SRE_Match object; span=(190, 191), match='2'>\n",
      "<_sre.SRE_Match object; span=(191, 192), match='3'>\n",
      "<_sre.SRE_Match object; span=(192, 193), match='4'>\n",
      "<_sre.SRE_Match object; span=(194, 195), match='8'>\n",
      "<_sre.SRE_Match object; span=(195, 196), match='0'>\n",
      "<_sre.SRE_Match object; span=(196, 197), match='0'>\n",
      "<_sre.SRE_Match object; span=(197, 198), match='-'>\n",
      "<_sre.SRE_Match object; span=(198, 199), match='5'>\n",
      "<_sre.SRE_Match object; span=(199, 200), match='5'>\n",
      "<_sre.SRE_Match object; span=(200, 201), match='5'>\n",
      "<_sre.SRE_Match object; span=(201, 202), match='-'>\n",
      "<_sre.SRE_Match object; span=(202, 203), match='1'>\n",
      "<_sre.SRE_Match object; span=(203, 204), match='2'>\n",
      "<_sre.SRE_Match object; span=(204, 205), match='3'>\n",
      "<_sre.SRE_Match object; span=(205, 206), match='4'>\n",
      "<_sre.SRE_Match object; span=(207, 208), match='9'>\n",
      "<_sre.SRE_Match object; span=(208, 209), match='0'>\n",
      "<_sre.SRE_Match object; span=(209, 210), match='0'>\n",
      "<_sre.SRE_Match object; span=(210, 211), match='-'>\n",
      "<_sre.SRE_Match object; span=(211, 212), match='5'>\n",
      "<_sre.SRE_Match object; span=(212, 213), match='5'>\n",
      "<_sre.SRE_Match object; span=(213, 214), match='5'>\n",
      "<_sre.SRE_Match object; span=(214, 215), match='-'>\n",
      "<_sre.SRE_Match object; span=(215, 216), match='1'>\n",
      "<_sre.SRE_Match object; span=(216, 217), match='2'>\n",
      "<_sre.SRE_Match object; span=(217, 218), match='3'>\n",
      "<_sre.SRE_Match object; span=(218, 219), match='4'>\n",
      "<_sre.SRE_Match object; span=(221, 222), match='M'>\n",
      "<_sre.SRE_Match object; span=(222, 223), match='r'>\n",
      "<_sre.SRE_Match object; span=(223, 224), match='.'>\n",
      "<_sre.SRE_Match object; span=(224, 225), match=' '>\n",
      "<_sre.SRE_Match object; span=(225, 226), match='S'>\n",
      "<_sre.SRE_Match object; span=(226, 227), match='c'>\n",
      "<_sre.SRE_Match object; span=(227, 228), match='h'>\n",
      "<_sre.SRE_Match object; span=(228, 229), match='a'>\n",
      "<_sre.SRE_Match object; span=(229, 230), match='f'>\n",
      "<_sre.SRE_Match object; span=(230, 231), match='e'>\n",
      "<_sre.SRE_Match object; span=(231, 232), match='r'>\n",
      "<_sre.SRE_Match object; span=(233, 234), match='M'>\n",
      "<_sre.SRE_Match object; span=(234, 235), match='r'>\n",
      "<_sre.SRE_Match object; span=(235, 236), match=' '>\n",
      "<_sre.SRE_Match object; span=(236, 237), match='S'>\n",
      "<_sre.SRE_Match object; span=(237, 238), match='m'>\n",
      "<_sre.SRE_Match object; span=(238, 239), match='i'>\n",
      "<_sre.SRE_Match object; span=(239, 240), match='t'>\n",
      "<_sre.SRE_Match object; span=(240, 241), match='h'>\n",
      "<_sre.SRE_Match object; span=(242, 243), match='M'>\n",
      "<_sre.SRE_Match object; span=(243, 244), match='s'>\n",
      "<_sre.SRE_Match object; span=(244, 245), match=' '>\n",
      "<_sre.SRE_Match object; span=(245, 246), match='D'>\n",
      "<_sre.SRE_Match object; span=(246, 247), match='a'>\n",
      "<_sre.SRE_Match object; span=(247, 248), match='v'>\n",
      "<_sre.SRE_Match object; span=(248, 249), match='i'>\n",
      "<_sre.SRE_Match object; span=(249, 250), match='s'>\n",
      "<_sre.SRE_Match object; span=(251, 252), match='M'>\n",
      "<_sre.SRE_Match object; span=(252, 253), match='r'>\n",
      "<_sre.SRE_Match object; span=(253, 254), match='s'>\n",
      "<_sre.SRE_Match object; span=(254, 255), match='.'>\n",
      "<_sre.SRE_Match object; span=(255, 256), match=' '>\n",
      "<_sre.SRE_Match object; span=(256, 257), match='R'>\n",
      "<_sre.SRE_Match object; span=(257, 258), match='o'>\n",
      "<_sre.SRE_Match object; span=(258, 259), match='b'>\n",
      "<_sre.SRE_Match object; span=(259, 260), match='i'>\n",
      "<_sre.SRE_Match object; span=(260, 261), match='n'>\n",
      "<_sre.SRE_Match object; span=(261, 262), match='s'>\n",
      "<_sre.SRE_Match object; span=(262, 263), match='o'>\n",
      "<_sre.SRE_Match object; span=(263, 264), match='n'>\n",
      "<_sre.SRE_Match object; span=(265, 266), match='M'>\n",
      "<_sre.SRE_Match object; span=(266, 267), match='r'>\n",
      "<_sre.SRE_Match object; span=(267, 268), match='.'>\n",
      "<_sre.SRE_Match object; span=(268, 269), match=' '>\n",
      "<_sre.SRE_Match object; span=(269, 270), match='T'>\n",
      "<_sre.SRE_Match object; span=(272, 273), match='c'>\n",
      "<_sre.SRE_Match object; span=(273, 274), match='a'>\n",
      "<_sre.SRE_Match object; span=(274, 275), match='t'>\n",
      "<_sre.SRE_Match object; span=(275, 276), match=' '>\n",
      "<_sre.SRE_Match object; span=(277, 278), match='m'>\n",
      "<_sre.SRE_Match object; span=(278, 279), match='a'>\n",
      "<_sre.SRE_Match object; span=(279, 280), match='t'>\n",
      "<_sre.SRE_Match object; span=(281, 282), match='b'>\n",
      "<_sre.SRE_Match object; span=(282, 283), match='a'>\n",
      "<_sre.SRE_Match object; span=(283, 284), match='t'>\n"
     ]
    }
   ],
   "source": [
    "pattern = re.compile(r'.')\n",
    "matches = pattern.finditer(text_to_search)\n",
    "for match in matches:\n",
    "    print(match)"
   ]
  },
  {
   "cell_type": "markdown",
   "metadata": {},
   "source": [
    "    \\d\n",
    "    Matches any decimal digit; this is equivalent to the class [0-9].\n",
    "    \\D\n",
    "    Matches any non-digit character; this is equivalent to the class [^0-9].\n",
    "    \\s\n",
    "    Matches any whitespace character; this is equivalent to the class [ \\t\\n\\r\\f\\v].\n",
    "    \\S\n",
    "    Matches any non-whitespace character; this is equivalent to the class [^ \\t\\n\\r\\f\\v].\n",
    "    \\w\n",
    "    Matches any alphanumeric character; this is equivalent to the class [a-zA-Z0-9_].\n",
    "    \\W\n",
    "    Matches any non-alphanumeric character; this is equivalent to the class [^a-zA-Z0-9_].\n",
    "    \\b\n",
    "    Word boundary.\n",
    "    \\B\n",
    "    Another zero-width assertion, this is the opposite of \\b"
   ]
  },
  {
   "cell_type": "code",
   "execution_count": 10,
   "metadata": {},
   "outputs": [
    {
     "name": "stdout",
     "output_type": "stream",
     "text": [
      "<_sre.SRE_Match object; span=(67, 69), match='Ha'>\n",
      "<_sre.SRE_Match object; span=(70, 72), match='Ha'>\n"
     ]
    }
   ],
   "source": [
    "pattern = re.compile(r'\\bHa')\n",
    "matches = pattern.finditer(text_to_search)\n",
    "for match in matches:\n",
    "    print(match)"
   ]
  },
  {
   "cell_type": "code",
   "execution_count": 11,
   "metadata": {},
   "outputs": [
    {
     "name": "stdout",
     "output_type": "stream",
     "text": [
      "\n",
      "Ha HaHa\n",
      "\n"
     ]
    }
   ],
   "source": [
    "print(text_to_search[66:75])"
   ]
  },
  {
   "cell_type": "markdown",
   "metadata": {},
   "source": [
    "    ^\n",
    "    Matches at the beginning of lines\n",
    "    \n",
    "    $\n",
    "    Matches at the end of a line\n",
    "    \n",
    "    \\A\n",
    "    Matches only at the start of the string. When not in MULTILINE mode, \\A and ^ are effectively the same. In MULTILINE mode, they’re different: \\A still matches only at the beginning of the string, but ^ may match at any location inside the string that follows a newline character.\n",
    "    \\Z\n",
    "    Matches only at the end of the string."
   ]
  },
  {
   "cell_type": "code",
   "execution_count": 12,
   "metadata": {},
   "outputs": [
    {
     "name": "stdout",
     "output_type": "stream",
     "text": [
      "<_sre.SRE_Match object; span=(155, 167), match='321-555-4321'>\n",
      "<_sre.SRE_Match object; span=(168, 180), match='123.555.1234'>\n",
      "<_sre.SRE_Match object; span=(181, 193), match='123*555*1234'>\n",
      "<_sre.SRE_Match object; span=(194, 206), match='800-555-1234'>\n",
      "<_sre.SRE_Match object; span=(207, 219), match='900-555-1234'>\n"
     ]
    }
   ],
   "source": [
    "pattern = re.compile(r'\\d\\d\\d.\\d\\d\\d.\\d\\d\\d\\d')\n",
    "matches = pattern.finditer(text_to_search)\n",
    "for match in matches:\n",
    "    print(match)"
   ]
  },
  {
   "cell_type": "code",
   "execution_count": 13,
   "metadata": {
    "scrolled": true
   },
   "outputs": [
    {
     "name": "stdout",
     "output_type": "stream",
     "text": [
      "<_sre.SRE_Match object; span=(12, 24), match='615-555-7164'>\n",
      "<_sre.SRE_Match object; span=(102, 114), match='800-555-5669'>\n",
      "<_sre.SRE_Match object; span=(191, 203), match='560-555-5153'>\n",
      "<_sre.SRE_Match object; span=(281, 293), match='900-555-9340'>\n",
      "<_sre.SRE_Match object; span=(378, 390), match='714-555-7405'>\n",
      "<_sre.SRE_Match object; span=(467, 479), match='800-555-6771'>\n",
      "<_sre.SRE_Match object; span=(557, 569), match='783-555-4799'>\n",
      "<_sre.SRE_Match object; span=(647, 659), match='516-555-4615'>\n",
      "<_sre.SRE_Match object; span=(740, 752), match='127-555-1867'>\n",
      "<_sre.SRE_Match object; span=(831, 843), match='608-555-4938'>\n",
      "<_sre.SRE_Match object; span=(917, 929), match='568-555-6051'>\n",
      "<_sre.SRE_Match object; span=(1005, 1017), match='292-555-1875'>\n",
      "<_sre.SRE_Match object; span=(1093, 1105), match='900-555-3205'>\n",
      "<_sre.SRE_Match object; span=(1182, 1194), match='614-555-1166'>\n",
      "<_sre.SRE_Match object; span=(1273, 1285), match='530-555-2676'>\n",
      "<_sre.SRE_Match object; span=(1359, 1371), match='470-555-2750'>\n",
      "<_sre.SRE_Match object; span=(1443, 1455), match='800-555-6089'>\n",
      "<_sre.SRE_Match object; span=(1530, 1542), match='880-555-8319'>\n",
      "<_sre.SRE_Match object; span=(1618, 1630), match='777-555-8378'>\n",
      "<_sre.SRE_Match object; span=(1701, 1713), match='998-555-7385'>\n",
      "<_sre.SRE_Match object; span=(1794, 1806), match='800-555-7100'>\n",
      "<_sre.SRE_Match object; span=(1878, 1890), match='903-555-8277'>\n",
      "<_sre.SRE_Match object; span=(1966, 1978), match='196-555-5674'>\n",
      "<_sre.SRE_Match object; span=(2055, 2067), match='900-555-5118'>\n",
      "<_sre.SRE_Match object; span=(2139, 2151), match='905-555-1630'>\n",
      "<_sre.SRE_Match object; span=(2220, 2232), match='203-555-3475'>\n",
      "<_sre.SRE_Match object; span=(2304, 2316), match='884-555-8444'>\n",
      "<_sre.SRE_Match object; span=(2391, 2403), match='904-555-8559'>\n",
      "<_sre.SRE_Match object; span=(2479, 2491), match='889-555-7393'>\n",
      "<_sre.SRE_Match object; span=(2566, 2578), match='195-555-2405'>\n",
      "<_sre.SRE_Match object; span=(2651, 2663), match='321-555-9053'>\n",
      "<_sre.SRE_Match object; span=(2738, 2750), match='133-555-1711'>\n",
      "<_sre.SRE_Match object; span=(2830, 2842), match='900-555-5428'>\n",
      "<_sre.SRE_Match object; span=(2919, 2931), match='760-555-7147'>\n",
      "<_sre.SRE_Match object; span=(3018, 3030), match='391-555-6621'>\n",
      "<_sre.SRE_Match object; span=(3109, 3121), match='932-555-7724'>\n",
      "<_sre.SRE_Match object; span=(3198, 3210), match='609-555-7908'>\n",
      "<_sre.SRE_Match object; span=(3290, 3302), match='800-555-8810'>\n",
      "<_sre.SRE_Match object; span=(3378, 3390), match='149-555-7657'>\n",
      "<_sre.SRE_Match object; span=(3458, 3470), match='130-555-9709'>\n",
      "<_sre.SRE_Match object; span=(3541, 3553), match='143-555-9295'>\n",
      "<_sre.SRE_Match object; span=(3630, 3642), match='903-555-9878'>\n",
      "<_sre.SRE_Match object; span=(3720, 3732), match='574-555-3194'>\n",
      "<_sre.SRE_Match object; span=(3808, 3820), match='496-555-7533'>\n",
      "<_sre.SRE_Match object; span=(3893, 3905), match='210-555-3757'>\n",
      "<_sre.SRE_Match object; span=(3977, 3989), match='900-555-9598'>\n",
      "<_sre.SRE_Match object; span=(4062, 4074), match='866-555-9844'>\n",
      "<_sre.SRE_Match object; span=(4146, 4158), match='669-555-7159'>\n",
      "<_sre.SRE_Match object; span=(4231, 4243), match='152-555-7417'>\n",
      "<_sre.SRE_Match object; span=(4323, 4335), match='893-555-9832'>\n",
      "<_sre.SRE_Match object; span=(4413, 4425), match='217-555-7123'>\n",
      "<_sre.SRE_Match object; span=(4504, 4516), match='786-555-6544'>\n",
      "<_sre.SRE_Match object; span=(4594, 4606), match='780-555-2574'>\n",
      "<_sre.SRE_Match object; span=(4682, 4694), match='926-555-8735'>\n",
      "<_sre.SRE_Match object; span=(4768, 4780), match='895-555-3539'>\n",
      "<_sre.SRE_Match object; span=(4865, 4877), match='874-555-3949'>\n",
      "<_sre.SRE_Match object; span=(4951, 4963), match='800-555-2420'>\n",
      "<_sre.SRE_Match object; span=(5040, 5052), match='936-555-6340'>\n",
      "<_sre.SRE_Match object; span=(5129, 5141), match='372-555-9809'>\n",
      "<_sre.SRE_Match object; span=(5216, 5228), match='890-555-5618'>\n",
      "<_sre.SRE_Match object; span=(5298, 5310), match='670-555-3005'>\n",
      "<_sre.SRE_Match object; span=(5388, 5400), match='509-555-5997'>\n",
      "<_sre.SRE_Match object; span=(5481, 5493), match='721-555-5632'>\n",
      "<_sre.SRE_Match object; span=(5572, 5584), match='900-555-3567'>\n",
      "<_sre.SRE_Match object; span=(5662, 5674), match='147-555-6830'>\n",
      "<_sre.SRE_Match object; span=(5751, 5763), match='582-555-3426'>\n",
      "<_sre.SRE_Match object; span=(5836, 5848), match='400-555-1706'>\n",
      "<_sre.SRE_Match object; span=(5927, 5939), match='525-555-1793'>\n",
      "<_sre.SRE_Match object; span=(6017, 6029), match='317-555-6700'>\n",
      "<_sre.SRE_Match object; span=(6105, 6117), match='974-555-8301'>\n",
      "<_sre.SRE_Match object; span=(6195, 6207), match='800-555-3216'>\n",
      "<_sre.SRE_Match object; span=(6281, 6293), match='746-555-4094'>\n",
      "<_sre.SRE_Match object; span=(6368, 6380), match='922-555-1773'>\n",
      "<_sre.SRE_Match object; span=(6453, 6465), match='711-555-4427'>\n",
      "<_sre.SRE_Match object; span=(6538, 6550), match='355-555-1872'>\n",
      "<_sre.SRE_Match object; span=(6627, 6639), match='852-555-6521'>\n",
      "<_sre.SRE_Match object; span=(6719, 6731), match='691-555-5773'>\n",
      "<_sre.SRE_Match object; span=(6811, 6823), match='332-555-5441'>\n",
      "<_sre.SRE_Match object; span=(6897, 6909), match='900-555-7755'>\n",
      "<_sre.SRE_Match object; span=(6979, 6991), match='379-555-3685'>\n",
      "<_sre.SRE_Match object; span=(7069, 7081), match='127-555-9682'>\n",
      "<_sre.SRE_Match object; span=(7160, 7172), match='789-555-7032'>\n",
      "<_sre.SRE_Match object; span=(7251, 7263), match='783-555-5135'>\n",
      "<_sre.SRE_Match object; span=(7344, 7356), match='315-555-6507'>\n",
      "<_sre.SRE_Match object; span=(7435, 7447), match='481-555-5835'>\n",
      "<_sre.SRE_Match object; span=(7523, 7535), match='365-555-8287'>\n",
      "<_sre.SRE_Match object; span=(7615, 7627), match='911-555-7535'>\n",
      "<_sre.SRE_Match object; span=(7701, 7713), match='681-555-2460'>\n",
      "<_sre.SRE_Match object; span=(7787, 7799), match='274-555-9800'>\n",
      "<_sre.SRE_Match object; span=(7872, 7884), match='800-555-1372'>\n",
      "<_sre.SRE_Match object; span=(7961, 7973), match='300-555-7821'>\n",
      "<_sre.SRE_Match object; span=(8051, 8063), match='133-555-3889'>\n",
      "<_sre.SRE_Match object; span=(8139, 8151), match='705-555-6863'>\n",
      "<_sre.SRE_Match object; span=(8228, 8240), match='215-555-9449'>\n",
      "<_sre.SRE_Match object; span=(8319, 8331), match='988-555-6112'>\n",
      "<_sre.SRE_Match object; span=(8405, 8417), match='623-555-3006'>\n",
      "<_sre.SRE_Match object; span=(8489, 8501), match='192-555-4977'>\n",
      "<_sre.SRE_Match object; span=(8574, 8586), match='178-555-4899'>\n",
      "<_sre.SRE_Match object; span=(8658, 8670), match='952-555-3089'>\n",
      "<_sre.SRE_Match object; span=(8751, 8763), match='900-555-6426'>\n"
     ]
    }
   ],
   "source": [
    "with open('data.txt', 'r') as f:\n",
    "    contents = f.read()\n",
    "    pattern = re.compile(r'\\d\\d\\d.\\d\\d\\d.\\d\\d\\d\\d')\n",
    "    matches = pattern.finditer(contents)\n",
    "    for match in matches:\n",
    "        print(match)"
   ]
  },
  {
   "cell_type": "code",
   "execution_count": 14,
   "metadata": {},
   "outputs": [
    {
     "name": "stdout",
     "output_type": "stream",
     "text": [
      "<_sre.SRE_Match object; span=(194, 206), match='800-555-1234'>\n",
      "<_sre.SRE_Match object; span=(207, 219), match='900-555-1234'>\n"
     ]
    }
   ],
   "source": [
    "pattern = re.compile(r'[89]00.\\d\\d\\d.\\d\\d\\d\\d')\n",
    "matches = pattern.finditer(text_to_search)\n",
    "for match in matches:\n",
    "    print(match)"
   ]
  },
  {
   "cell_type": "code",
   "execution_count": 15,
   "metadata": {},
   "outputs": [
    {
     "name": "stdout",
     "output_type": "stream",
     "text": [
      "<_sre.SRE_Match object; span=(102, 114), match='800-555-5669'>\n",
      "<_sre.SRE_Match object; span=(281, 293), match='900-555-9340'>\n",
      "<_sre.SRE_Match object; span=(467, 479), match='800-555-6771'>\n",
      "<_sre.SRE_Match object; span=(1093, 1105), match='900-555-3205'>\n",
      "<_sre.SRE_Match object; span=(1443, 1455), match='800-555-6089'>\n",
      "<_sre.SRE_Match object; span=(1794, 1806), match='800-555-7100'>\n",
      "<_sre.SRE_Match object; span=(2055, 2067), match='900-555-5118'>\n",
      "<_sre.SRE_Match object; span=(2830, 2842), match='900-555-5428'>\n",
      "<_sre.SRE_Match object; span=(3290, 3302), match='800-555-8810'>\n",
      "<_sre.SRE_Match object; span=(3977, 3989), match='900-555-9598'>\n",
      "<_sre.SRE_Match object; span=(4951, 4963), match='800-555-2420'>\n",
      "<_sre.SRE_Match object; span=(5572, 5584), match='900-555-3567'>\n",
      "<_sre.SRE_Match object; span=(6195, 6207), match='800-555-3216'>\n",
      "<_sre.SRE_Match object; span=(6897, 6909), match='900-555-7755'>\n",
      "<_sre.SRE_Match object; span=(7872, 7884), match='800-555-1372'>\n",
      "<_sre.SRE_Match object; span=(8751, 8763), match='900-555-6426'>\n"
     ]
    }
   ],
   "source": [
    "with open('data.txt', 'r') as f:\n",
    "    contents = f.read()\n",
    "    pattern = re.compile(r'[89]00.\\d\\d\\d.\\d\\d\\d\\d')\n",
    "    matches = pattern.finditer(contents)\n",
    "    for match in matches:\n",
    "        print(match)"
   ]
  },
  {
   "cell_type": "code",
   "execution_count": 16,
   "metadata": {
    "scrolled": true
   },
   "outputs": [
    {
     "name": "stdout",
     "output_type": "stream",
     "text": [
      "<_sre.SRE_Match object; span=(55, 56), match='1'>\n",
      "<_sre.SRE_Match object; span=(56, 57), match='2'>\n",
      "<_sre.SRE_Match object; span=(57, 58), match='3'>\n",
      "<_sre.SRE_Match object; span=(58, 59), match='4'>\n",
      "<_sre.SRE_Match object; span=(59, 60), match='5'>\n",
      "<_sre.SRE_Match object; span=(155, 156), match='3'>\n",
      "<_sre.SRE_Match object; span=(156, 157), match='2'>\n",
      "<_sre.SRE_Match object; span=(157, 158), match='1'>\n",
      "<_sre.SRE_Match object; span=(159, 160), match='5'>\n",
      "<_sre.SRE_Match object; span=(160, 161), match='5'>\n",
      "<_sre.SRE_Match object; span=(161, 162), match='5'>\n",
      "<_sre.SRE_Match object; span=(163, 164), match='4'>\n",
      "<_sre.SRE_Match object; span=(164, 165), match='3'>\n",
      "<_sre.SRE_Match object; span=(165, 166), match='2'>\n",
      "<_sre.SRE_Match object; span=(166, 167), match='1'>\n",
      "<_sre.SRE_Match object; span=(168, 169), match='1'>\n",
      "<_sre.SRE_Match object; span=(169, 170), match='2'>\n",
      "<_sre.SRE_Match object; span=(170, 171), match='3'>\n",
      "<_sre.SRE_Match object; span=(172, 173), match='5'>\n",
      "<_sre.SRE_Match object; span=(173, 174), match='5'>\n",
      "<_sre.SRE_Match object; span=(174, 175), match='5'>\n",
      "<_sre.SRE_Match object; span=(176, 177), match='1'>\n",
      "<_sre.SRE_Match object; span=(177, 178), match='2'>\n",
      "<_sre.SRE_Match object; span=(178, 179), match='3'>\n",
      "<_sre.SRE_Match object; span=(179, 180), match='4'>\n",
      "<_sre.SRE_Match object; span=(181, 182), match='1'>\n",
      "<_sre.SRE_Match object; span=(182, 183), match='2'>\n",
      "<_sre.SRE_Match object; span=(183, 184), match='3'>\n",
      "<_sre.SRE_Match object; span=(185, 186), match='5'>\n",
      "<_sre.SRE_Match object; span=(186, 187), match='5'>\n",
      "<_sre.SRE_Match object; span=(187, 188), match='5'>\n",
      "<_sre.SRE_Match object; span=(189, 190), match='1'>\n",
      "<_sre.SRE_Match object; span=(190, 191), match='2'>\n",
      "<_sre.SRE_Match object; span=(191, 192), match='3'>\n",
      "<_sre.SRE_Match object; span=(192, 193), match='4'>\n",
      "<_sre.SRE_Match object; span=(198, 199), match='5'>\n",
      "<_sre.SRE_Match object; span=(199, 200), match='5'>\n",
      "<_sre.SRE_Match object; span=(200, 201), match='5'>\n",
      "<_sre.SRE_Match object; span=(202, 203), match='1'>\n",
      "<_sre.SRE_Match object; span=(203, 204), match='2'>\n",
      "<_sre.SRE_Match object; span=(204, 205), match='3'>\n",
      "<_sre.SRE_Match object; span=(205, 206), match='4'>\n",
      "<_sre.SRE_Match object; span=(211, 212), match='5'>\n",
      "<_sre.SRE_Match object; span=(212, 213), match='5'>\n",
      "<_sre.SRE_Match object; span=(213, 214), match='5'>\n",
      "<_sre.SRE_Match object; span=(215, 216), match='1'>\n",
      "<_sre.SRE_Match object; span=(216, 217), match='2'>\n",
      "<_sre.SRE_Match object; span=(217, 218), match='3'>\n",
      "<_sre.SRE_Match object; span=(218, 219), match='4'>\n"
     ]
    }
   ],
   "source": [
    "pattern = re.compile(r'[1-5]')\n",
    "matches = pattern.finditer(text_to_search)\n",
    "for match in matches:\n",
    "    print(match)"
   ]
  },
  {
   "cell_type": "code",
   "execution_count": 17,
   "metadata": {
    "scrolled": true
   },
   "outputs": [
    {
     "name": "stdout",
     "output_type": "stream",
     "text": [
      "<_sre.SRE_Match object; span=(0, 1), match='\\n'>\n",
      "<_sre.SRE_Match object; span=(27, 28), match='\\n'>\n",
      "<_sre.SRE_Match object; span=(54, 55), match='\\n'>\n",
      "<_sre.SRE_Match object; span=(65, 66), match='\\n'>\n",
      "<_sre.SRE_Match object; span=(66, 67), match='\\n'>\n",
      "<_sre.SRE_Match object; span=(69, 70), match=' '>\n",
      "<_sre.SRE_Match object; span=(74, 75), match='\\n'>\n",
      "<_sre.SRE_Match object; span=(75, 76), match='\\n'>\n",
      "<_sre.SRE_Match object; span=(90, 91), match=' '>\n",
      "<_sre.SRE_Match object; span=(91, 92), match='('>\n",
      "<_sre.SRE_Match object; span=(96, 97), match=' '>\n",
      "<_sre.SRE_Match object; span=(99, 100), match=' '>\n",
      "<_sre.SRE_Match object; span=(102, 103), match=' '>\n",
      "<_sre.SRE_Match object; span=(110, 111), match=')'>\n",
      "<_sre.SRE_Match object; span=(111, 112), match=':'>\n",
      "<_sre.SRE_Match object; span=(112, 113), match='\\n'>\n",
      "<_sre.SRE_Match object; span=(113, 114), match='.'>\n",
      "<_sre.SRE_Match object; span=(114, 115), match=' '>\n",
      "<_sre.SRE_Match object; span=(115, 116), match='^'>\n",
      "<_sre.SRE_Match object; span=(116, 117), match=' '>\n",
      "<_sre.SRE_Match object; span=(117, 118), match='$'>\n",
      "<_sre.SRE_Match object; span=(118, 119), match=' '>\n",
      "<_sre.SRE_Match object; span=(119, 120), match='*'>\n",
      "<_sre.SRE_Match object; span=(120, 121), match=' '>\n",
      "<_sre.SRE_Match object; span=(121, 122), match='+'>\n",
      "<_sre.SRE_Match object; span=(122, 123), match=' '>\n",
      "<_sre.SRE_Match object; span=(123, 124), match='?'>\n",
      "<_sre.SRE_Match object; span=(124, 125), match=' '>\n",
      "<_sre.SRE_Match object; span=(125, 126), match='{'>\n",
      "<_sre.SRE_Match object; span=(126, 127), match=' '>\n",
      "<_sre.SRE_Match object; span=(127, 128), match='}'>\n",
      "<_sre.SRE_Match object; span=(128, 129), match=' '>\n",
      "<_sre.SRE_Match object; span=(129, 130), match='['>\n",
      "<_sre.SRE_Match object; span=(130, 131), match=' '>\n",
      "<_sre.SRE_Match object; span=(131, 132), match=']'>\n",
      "<_sre.SRE_Match object; span=(132, 133), match=' '>\n",
      "<_sre.SRE_Match object; span=(133, 134), match='\\\\'>\n",
      "<_sre.SRE_Match object; span=(134, 135), match=' '>\n",
      "<_sre.SRE_Match object; span=(135, 136), match='|'>\n",
      "<_sre.SRE_Match object; span=(136, 137), match=' '>\n",
      "<_sre.SRE_Match object; span=(137, 138), match='('>\n",
      "<_sre.SRE_Match object; span=(138, 139), match=' '>\n",
      "<_sre.SRE_Match object; span=(139, 140), match=')'>\n",
      "<_sre.SRE_Match object; span=(140, 141), match='\\n'>\n",
      "<_sre.SRE_Match object; span=(141, 142), match='\\n'>\n",
      "<_sre.SRE_Match object; span=(149, 150), match='.'>\n",
      "<_sre.SRE_Match object; span=(153, 154), match='\\n'>\n",
      "<_sre.SRE_Match object; span=(154, 155), match='\\n'>\n",
      "<_sre.SRE_Match object; span=(158, 159), match='-'>\n",
      "<_sre.SRE_Match object; span=(162, 163), match='-'>\n",
      "<_sre.SRE_Match object; span=(167, 168), match='\\n'>\n",
      "<_sre.SRE_Match object; span=(171, 172), match='.'>\n",
      "<_sre.SRE_Match object; span=(175, 176), match='.'>\n",
      "<_sre.SRE_Match object; span=(180, 181), match='\\n'>\n",
      "<_sre.SRE_Match object; span=(184, 185), match='*'>\n",
      "<_sre.SRE_Match object; span=(188, 189), match='*'>\n",
      "<_sre.SRE_Match object; span=(193, 194), match='\\n'>\n",
      "<_sre.SRE_Match object; span=(197, 198), match='-'>\n",
      "<_sre.SRE_Match object; span=(201, 202), match='-'>\n",
      "<_sre.SRE_Match object; span=(206, 207), match='\\n'>\n",
      "<_sre.SRE_Match object; span=(210, 211), match='-'>\n",
      "<_sre.SRE_Match object; span=(214, 215), match='-'>\n",
      "<_sre.SRE_Match object; span=(219, 220), match='\\n'>\n",
      "<_sre.SRE_Match object; span=(220, 221), match='\\n'>\n",
      "<_sre.SRE_Match object; span=(223, 224), match='.'>\n",
      "<_sre.SRE_Match object; span=(224, 225), match=' '>\n",
      "<_sre.SRE_Match object; span=(232, 233), match='\\n'>\n",
      "<_sre.SRE_Match object; span=(235, 236), match=' '>\n",
      "<_sre.SRE_Match object; span=(241, 242), match='\\n'>\n",
      "<_sre.SRE_Match object; span=(244, 245), match=' '>\n",
      "<_sre.SRE_Match object; span=(250, 251), match='\\n'>\n",
      "<_sre.SRE_Match object; span=(254, 255), match='.'>\n",
      "<_sre.SRE_Match object; span=(255, 256), match=' '>\n",
      "<_sre.SRE_Match object; span=(264, 265), match='\\n'>\n",
      "<_sre.SRE_Match object; span=(267, 268), match='.'>\n",
      "<_sre.SRE_Match object; span=(268, 269), match=' '>\n",
      "<_sre.SRE_Match object; span=(270, 271), match='\\n'>\n",
      "<_sre.SRE_Match object; span=(271, 272), match='\\n'>\n",
      "<_sre.SRE_Match object; span=(275, 276), match=' '>\n",
      "<_sre.SRE_Match object; span=(276, 277), match='\\n'>\n",
      "<_sre.SRE_Match object; span=(280, 281), match='\\n'>\n",
      "<_sre.SRE_Match object; span=(284, 285), match='\\n'>\n"
     ]
    }
   ],
   "source": [
    "pattern = re.compile(r'[^a-zA-Z0-9]')\n",
    "matches = pattern.finditer(text_to_search)\n",
    "for match in matches:\n",
    "    print(match)"
   ]
  },
  {
   "cell_type": "code",
   "execution_count": 18,
   "metadata": {},
   "outputs": [
    {
     "name": "stdout",
     "output_type": "stream",
     "text": [
      "<_sre.SRE_Match object; span=(272, 275), match='cat'>\n",
      "<_sre.SRE_Match object; span=(277, 280), match='mat'>\n"
     ]
    }
   ],
   "source": [
    "pattern = re.compile(r'[^b]at')\n",
    "matches = pattern.finditer(text_to_search)\n",
    "for match in matches:\n",
    "    print(match)"
   ]
  },
  {
   "cell_type": "markdown",
   "metadata": {},
   "source": [
    "    Character\tDescription\tExample\tTry it\n",
    "    []\tA set of characters\t\"[a-m]\"\t\n",
    "    \\\tSignals a special sequence (can also be used to escape special characters)\t\"\\d\"\t\n",
    "    .\tAny character (except newline character)\t\"he..o\"\t\n",
    "    ^\tStarts with\t\"^hello\"\t\n",
    "    $\tEnds with\t\"world$\"\t\n",
    "    *\tZero or more occurrences\t\"aix*\"\t\n",
    "    +\tOne or more occurrences\t\"aix+\"\t\n",
    "    {}\tExactly the specified number of occurrences\t\"al{2}\"\t\n",
    "    |\tEither or\t\"falls|stays\"\t\n",
    "    ()\tCapture and group"
   ]
  },
  {
   "cell_type": "code",
   "execution_count": 19,
   "metadata": {},
   "outputs": [
    {
     "name": "stdout",
     "output_type": "stream",
     "text": [
      "<_sre.SRE_Match object; span=(221, 224), match='Mr.'>\n",
      "<_sre.SRE_Match object; span=(265, 268), match='Mr.'>\n"
     ]
    }
   ],
   "source": [
    "pattern = re.compile(r'Mr\\.')\n",
    "matches = pattern.finditer(text_to_search)\n",
    "for match in matches:\n",
    "    print(match)"
   ]
  },
  {
   "cell_type": "code",
   "execution_count": 20,
   "metadata": {},
   "outputs": [
    {
     "name": "stdout",
     "output_type": "stream",
     "text": [
      "<_sre.SRE_Match object; span=(1, 24), match='CoreyMSchafer@gmail.com'>\n",
      "<_sre.SRE_Match object; span=(25, 53), match='corey.schafer@university.edu'>\n",
      "<_sre.SRE_Match object; span=(54, 83), match='corey-321-schafer@my-work.net'>\n"
     ]
    }
   ],
   "source": [
    "emails = '''\n",
    "CoreyMSchafer@gmail.com\n",
    "corey.schafer@university.edu\n",
    "corey-321-schafer@my-work.net\n",
    "'''\n",
    "\n",
    "pattern = re.compile(r'[a-zA-Z0-9_.+-]+@[a-zA-Z0-9-]+\\.[a-zA-Z0-9-.]+')\n",
    "\n",
    "matches = pattern.finditer(emails)\n",
    "\n",
    "for match in matches:\n",
    "    print(match)"
   ]
  },
  {
   "cell_type": "code",
   "execution_count": 21,
   "metadata": {},
   "outputs": [
    {
     "name": "stdout",
     "output_type": "stream",
     "text": [
      "\n",
      "google.com\n",
      "coreyms.com\n",
      "youtube.com\n",
      "nasa.gov\n",
      "\n"
     ]
    }
   ],
   "source": [
    "urls = '''\n",
    "https://www.google.com\n",
    "http://coreyms.com\n",
    "https://youtube.com\n",
    "https://www.nasa.gov\n",
    "'''\n",
    "\n",
    "pattern = re.compile(r'https?://(www\\.)?(\\w+)(\\.\\w+)')\n",
    "\n",
    "subbed_urls = pattern.sub(r'\\2\\3', urls)\n",
    "\n",
    "print(subbed_urls)\n"
   ]
  },
  {
   "cell_type": "code",
   "execution_count": 22,
   "metadata": {},
   "outputs": [
    {
     "name": "stdout",
     "output_type": "stream",
     "text": [
      "321-555-4321\n",
      "123.555.1234\n",
      "123*555*1234\n",
      "800-555-1234\n",
      "900-555-1234\n"
     ]
    }
   ],
   "source": [
    "pattern = re.compile(r'\\d{3}.\\d{3}.\\d{4}')\n",
    "\n",
    "matches = pattern.findall(text_to_search)\n",
    "\n",
    "for match in matches:\n",
    "    print(match)"
   ]
  },
  {
   "cell_type": "code",
   "execution_count": 24,
   "metadata": {},
   "outputs": [
    {
     "name": "stdout",
     "output_type": "stream",
     "text": [
      "Start\n"
     ]
    }
   ],
   "source": [
    "pattern = re.compile(r'start', re.I)\n",
    "\n",
    "matches = pattern.findall(sentence)\n",
    "\n",
    "for match in matches:\n",
    "    print(match)"
   ]
  },
  {
   "cell_type": "code",
   "execution_count": null,
   "metadata": {},
   "outputs": [],
   "source": []
  }
 ],
 "metadata": {
  "kernelspec": {
   "display_name": "Python 3",
   "language": "python",
   "name": "python3"
  },
  "language_info": {
   "codemirror_mode": {
    "name": "ipython",
    "version": 3
   },
   "file_extension": ".py",
   "mimetype": "text/x-python",
   "name": "python",
   "nbconvert_exporter": "python",
   "pygments_lexer": "ipython3",
   "version": "3.5.4"
  }
 },
 "nbformat": 4,
 "nbformat_minor": 2
}
